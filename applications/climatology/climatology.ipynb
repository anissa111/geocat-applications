{
 "cells": [
  {
   "cell_type": "markdown",
   "metadata": {},
   "source": "# Climatology in Python"
  },
  {
   "cell_type": "markdown",
   "metadata": {},
   "source": [
    "## Overview\n",
    "When possible, lead with a short intro paragraph that covers the content and scope of the materials in the notebook"
   ]
  },
  {
   "metadata": {},
   "cell_type": "markdown",
   "source": "---"
  },
  {
   "cell_type": "markdown",
   "metadata": {},
   "source": " ## Calculate Anomalies"
  },
  {
   "metadata": {},
   "cell_type": "markdown",
   "source": "## Removing Annual Trends"
  },
  {
   "metadata": {},
   "cell_type": "markdown",
   "source": "## Calculating long term means"
  },
  {
   "metadata": {},
   "cell_type": "markdown",
   "source": "## Calculating seasonal means"
  },
  {
   "metadata": {},
   "cell_type": "markdown",
   "source": "## Calculating smooth mean daily annual cycles"
  },
  {
   "metadata": {},
   "cell_type": "markdown",
   "source": "## Finding standard deviations of monthly means"
  },
  {
   "metadata": {},
   "cell_type": "markdown",
   "source": [
    "## Resources\n",
    "- link to other open source resources"
   ]
  }
 ],
 "metadata": {
  "language_info": {
   "name": "python"
  }
 },
 "nbformat": 4,
 "nbformat_minor": 2
}
